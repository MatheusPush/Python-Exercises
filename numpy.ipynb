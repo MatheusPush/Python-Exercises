{
  "cells": [
    {
      "metadata": {
        "_uuid": "8f2839f25d086af736a60e9eeb907d3b93b6e0e5",
        "_cell_guid": "b1076dfc-b9ad-4769-8c92-a6c4dae69d19",
        "trusted": true
      },
      "cell_type": "code",
      "source": "import numpy as np, pandas as pd",
      "execution_count": 1,
      "outputs": []
    },
    {
      "metadata": {
        "_cell_guid": "79c7e3d0-c299-4dcb-8224-4455121ee9b0",
        "_uuid": "d629ff2d2480ee46fbb7e2d37f6b5fab8052498a",
        "trusted": true
      },
      "cell_type": "code",
      "source": "# Crie uma matriz 1D com números de 0 a 9\nnp_array = np.arange(0, 10)\nnp_array",
      "execution_count": 2,
      "outputs": [
        {
          "output_type": "execute_result",
          "execution_count": 2,
          "data": {
            "text/plain": "array([0, 1, 2, 3, 4, 5, 6, 7, 8, 9])"
          },
          "metadata": {}
        }
      ]
    },
    {
      "metadata": {
        "trusted": true,
        "_uuid": "0a4b846ed4bd9ec986b099c197d3358cb22d06a1"
      },
      "cell_type": "code",
      "source": "# Crie uma matriz booleana numpy 3×3 com ‘True’\nnp_matrix = np.array([True] * 9).reshape(3, 3)\nnp_matrix",
      "execution_count": 3,
      "outputs": [
        {
          "output_type": "execute_result",
          "execution_count": 3,
          "data": {
            "text/plain": "array([[ True,  True,  True],\n       [ True,  True,  True],\n       [ True,  True,  True]])"
          },
          "metadata": {}
        }
      ]
    },
    {
      "metadata": {
        "trusted": true,
        "_uuid": "3fedbd0638f4170d5b2bfa205ca5aeff878e7631"
      },
      "cell_type": "code",
      "source": "",
      "execution_count": null,
      "outputs": []
    },
    {
      "metadata": {
        "trusted": true,
        "_uuid": "3b8b1e785f60eeda094474c764af7c52d7507cda"
      },
      "cell_type": "code",
      "source": "# Extraia todos os números ímpares de ‘arr’\nkeep_odds = lambda l: np.array([x for x in l if x % 2 == 1])\nkeep_odds(np_array)\n\nnp.extract(np.mod(np_array, 2) == 1, np_array)",
      "execution_count": 15,
      "outputs": [
        {
          "output_type": "execute_result",
          "execution_count": 15,
          "data": {
            "text/plain": "array([1, 3, 5, 7, 9])"
          },
          "metadata": {}
        }
      ]
    },
    {
      "metadata": {
        "trusted": true,
        "_uuid": "599adcc783b318e3bb160a487ea9074bcc36bd05"
      },
      "cell_type": "code",
      "source": "# Substitua todos os números ímpares arr por -1\nreplace_odds = lambda l: np.array([x if x % 2 == 0 else -1 for x in l])\nreplace_odds(np_array)",
      "execution_count": 5,
      "outputs": [
        {
          "output_type": "execute_result",
          "execution_count": 5,
          "data": {
            "text/plain": "array([ 0, -1,  2, -1,  4, -1,  6, -1,  8, -1])"
          },
          "metadata": {}
        }
      ]
    },
    {
      "metadata": {
        "trusted": true,
        "_uuid": "11bc970b7093197bab770b7b34cb08f0a90e79c9"
      },
      "cell_type": "code",
      "source": "# Empilhe matrizes verticalmente:\na = np.arange(10).reshape(2,-1)\nb = np.repeat(1, 10).reshape(2,-1)\nprint(np.concatenate((a, b)))",
      "execution_count": 6,
      "outputs": [
        {
          "output_type": "stream",
          "text": "[[0 1 2 3 4]\n [5 6 7 8 9]\n [1 1 1 1 1]\n [1 1 1 1 1]]\n",
          "name": "stdout"
        }
      ]
    },
    {
      "metadata": {
        "trusted": true,
        "_uuid": "28d916eaaf0a3f1872e1fbd35541b933a1b3fb7b"
      },
      "cell_type": "code",
      "source": "# Empilhe as matrizes horizontalmente:\n# a = np.arange(10).reshape(2,-1)\n# b = np.repeat(1, 10).reshape(2,-1)\nprint(np.concatenate((a, b), axis=1))",
      "execution_count": 7,
      "outputs": [
        {
          "output_type": "stream",
          "text": "[[0 1 2 3 4 1 1 1 1 1]\n [5 6 7 8 9 1 1 1 1 1]]\n",
          "name": "stdout"
        }
      ]
    },
    {
      "metadata": {
        "trusted": true,
        "_uuid": "9e5c2f9b4839cf8026e493258141b149930e4311"
      },
      "cell_type": "code",
      "source": "# Crie o seguinte padrão sem codificação: array([1, 1, 1, 2, 2, 2, 3, 3, 3, 1, 2, 3, 1, 2, 3, 1, 2, 3]).\n# Usando apenas funções numpy e a matriz de entrada abaixo ‘a’.\na = np.array([1,2,3])\nnp.concatenate((a.reshape(3, 1).repeat(3), np.tile(a, 3)))",
      "execution_count": 8,
      "outputs": [
        {
          "output_type": "execute_result",
          "execution_count": 8,
          "data": {
            "text/plain": "array([1, 1, 1, 2, 2, 2, 3, 3, 3, 1, 2, 3, 1, 2, 3, 1, 2, 3])"
          },
          "metadata": {}
        }
      ]
    },
    {
      "metadata": {
        "trusted": true,
        "_uuid": "9d701072446cf167ff11fbe6abf3cd94d790a62d"
      },
      "cell_type": "code",
      "source": "# Calcule a pontuação softmax de ‘sepal length’:\niris = np.genfromtxt('../input/iris.data', delimiter=',', dtype='float', usecols=[0, 1, 2, 3])\n\nsepallength = iris[:, 0]\nnp.exp(sepallength) / np.sum(np.exp(sepallength), axis=0)",
      "execution_count": 22,
      "outputs": [
        {
          "output_type": "execute_result",
          "execution_count": 22,
          "data": {
            "text/plain": "array([0.00221959, 0.00181724, 0.00148783, 0.00134625, 0.00200836,\n       0.00299613, 0.00134625, 0.00200836, 0.00110221, 0.00181724,\n       0.00299613, 0.00164431, 0.00164431, 0.00099732, 0.0044697 ,\n       0.00404435, 0.00299613, 0.00221959, 0.00404435, 0.00221959,\n       0.00299613, 0.00221959, 0.00134625, 0.00221959, 0.00164431,\n       0.00200836, 0.00200836, 0.00245302, 0.00245302, 0.00148783,\n       0.00164431, 0.00299613, 0.00245302, 0.00331123, 0.00181724,\n       0.00200836, 0.00331123, 0.00181724, 0.00110221, 0.00221959,\n       0.00200836, 0.00121813, 0.00110221, 0.00200836, 0.00221959,\n       0.00164431, 0.00221959, 0.00134625, 0.00271101, 0.00200836,\n       0.01483991, 0.00814432, 0.01342771, 0.00331123, 0.00900086,\n       0.00404435, 0.00736928, 0.00181724, 0.00994749, 0.00245302,\n       0.00200836, 0.00493978, 0.0054593 , 0.00603346, 0.00365948,\n       0.01099368, 0.00365948, 0.0044697 , 0.006668  , 0.00365948,\n       0.00493978, 0.00603346, 0.00736928, 0.00603346, 0.00814432,\n       0.00994749, 0.01214989, 0.01099368, 0.0054593 , 0.00404435,\n       0.00331123, 0.00331123, 0.0044697 , 0.0054593 , 0.00299613,\n       0.0054593 , 0.01099368, 0.00736928, 0.00365948, 0.00331123,\n       0.00331123, 0.00603346, 0.0044697 , 0.00200836, 0.00365948,\n       0.00404435, 0.00404435, 0.006668  , 0.00221959, 0.00404435,\n       0.00736928, 0.0044697 , 0.01640064, 0.00736928, 0.00900086,\n       0.02704008, 0.00181724, 0.02003179, 0.01099368, 0.01812551,\n       0.00900086, 0.00814432, 0.01214989, 0.00404435, 0.0044697 ,\n       0.00814432, 0.00900086, 0.02988391, 0.02988391, 0.0054593 ,\n       0.01342771, 0.00365948, 0.02988391, 0.00736928, 0.01099368,\n       0.01812551, 0.006668  , 0.00603346, 0.00814432, 0.01812551,\n       0.02213855, 0.0365003 , 0.00814432, 0.00736928, 0.00603346,\n       0.02988391, 0.00736928, 0.00814432, 0.0054593 , 0.01342771,\n       0.01099368, 0.01342771, 0.0044697 , 0.01214989, 0.01099368,\n       0.01099368, 0.00736928, 0.00900086, 0.006668  , 0.00493978])"
          },
          "metadata": {}
        }
      ]
    },
    {
      "metadata": {
        "trusted": true,
        "_uuid": "acd6a6a99b500dadb1985dfd3f38f8c76cb40169"
      },
      "cell_type": "code",
      "source": "# Filtre as linhas de iris_2d que possuem petallength (coluna 3) > 1.5 e sepallength (coluna 1) < 5.0\niris[(iris[:,2] > 1.5) & (iris[:,0] < 5.0)]",
      "execution_count": 41,
      "outputs": [
        {
          "output_type": "execute_result",
          "execution_count": 41,
          "data": {
            "text/plain": "array([[4.8, 3.4, 1.6, 0.2],\n       [4.8, 3.4, 1.9, 0.2],\n       [4.7, 3.2, 1.6, 0.2],\n       [4.8, 3.1, 1.6, 0.2],\n       [4.9, 2.4, 3.3, 1. ],\n       [4.9, 2.5, 4.5, 1.7]])"
          },
          "metadata": {}
        }
      ]
    },
    {
      "metadata": {
        "trusted": true,
        "scrolled": false,
        "_uuid": "91aaa51d5b5b9e3e2eba4db007d3f50b20ceb6f8"
      },
      "cell_type": "code",
      "source": "# Selecione as linhas de iris_2d que não têm nenhum valor ‘nan’\niris[~np.isnan(iris).any(axis=1)]",
      "execution_count": 42,
      "outputs": [
        {
          "output_type": "execute_result",
          "execution_count": 42,
          "data": {
            "text/plain": "array([[5.1, 3.5, 1.4, 0.2],\n       [4.9, 3. , 1.4, 0.2],\n       [4.7, 3.2, 1.3, 0.2],\n       [4.6, 3.1, 1.5, 0.2],\n       [5. , 3.6, 1.4, 0.2],\n       [5.4, 3.9, 1.7, 0.4],\n       [4.6, 3.4, 1.4, 0.3],\n       [5. , 3.4, 1.5, 0.2],\n       [4.4, 2.9, 1.4, 0.2],\n       [4.9, 3.1, 1.5, 0.1],\n       [5.4, 3.7, 1.5, 0.2],\n       [4.8, 3.4, 1.6, 0.2],\n       [4.8, 3. , 1.4, 0.1],\n       [4.3, 3. , 1.1, 0.1],\n       [5.8, 4. , 1.2, 0.2],\n       [5.7, 4.4, 1.5, 0.4],\n       [5.4, 3.9, 1.3, 0.4],\n       [5.1, 3.5, 1.4, 0.3],\n       [5.7, 3.8, 1.7, 0.3],\n       [5.1, 3.8, 1.5, 0.3],\n       [5.4, 3.4, 1.7, 0.2],\n       [5.1, 3.7, 1.5, 0.4],\n       [4.6, 3.6, 1. , 0.2],\n       [5.1, 3.3, 1.7, 0.5],\n       [4.8, 3.4, 1.9, 0.2],\n       [5. , 3. , 1.6, 0.2],\n       [5. , 3.4, 1.6, 0.4],\n       [5.2, 3.5, 1.5, 0.2],\n       [5.2, 3.4, 1.4, 0.2],\n       [4.7, 3.2, 1.6, 0.2],\n       [4.8, 3.1, 1.6, 0.2],\n       [5.4, 3.4, 1.5, 0.4],\n       [5.2, 4.1, 1.5, 0.1],\n       [5.5, 4.2, 1.4, 0.2],\n       [4.9, 3.1, 1.5, 0.1],\n       [5. , 3.2, 1.2, 0.2],\n       [5.5, 3.5, 1.3, 0.2],\n       [4.9, 3.1, 1.5, 0.1],\n       [4.4, 3. , 1.3, 0.2],\n       [5.1, 3.4, 1.5, 0.2],\n       [5. , 3.5, 1.3, 0.3],\n       [4.5, 2.3, 1.3, 0.3],\n       [4.4, 3.2, 1.3, 0.2],\n       [5. , 3.5, 1.6, 0.6],\n       [5.1, 3.8, 1.9, 0.4],\n       [4.8, 3. , 1.4, 0.3],\n       [5.1, 3.8, 1.6, 0.2],\n       [4.6, 3.2, 1.4, 0.2],\n       [5.3, 3.7, 1.5, 0.2],\n       [5. , 3.3, 1.4, 0.2],\n       [7. , 3.2, 4.7, 1.4],\n       [6.4, 3.2, 4.5, 1.5],\n       [6.9, 3.1, 4.9, 1.5],\n       [5.5, 2.3, 4. , 1.3],\n       [6.5, 2.8, 4.6, 1.5],\n       [5.7, 2.8, 4.5, 1.3],\n       [6.3, 3.3, 4.7, 1.6],\n       [4.9, 2.4, 3.3, 1. ],\n       [6.6, 2.9, 4.6, 1.3],\n       [5.2, 2.7, 3.9, 1.4],\n       [5. , 2. , 3.5, 1. ],\n       [5.9, 3. , 4.2, 1.5],\n       [6. , 2.2, 4. , 1. ],\n       [6.1, 2.9, 4.7, 1.4],\n       [5.6, 2.9, 3.6, 1.3],\n       [6.7, 3.1, 4.4, 1.4],\n       [5.6, 3. , 4.5, 1.5],\n       [5.8, 2.7, 4.1, 1. ],\n       [6.2, 2.2, 4.5, 1.5],\n       [5.6, 2.5, 3.9, 1.1],\n       [5.9, 3.2, 4.8, 1.8],\n       [6.1, 2.8, 4. , 1.3],\n       [6.3, 2.5, 4.9, 1.5],\n       [6.1, 2.8, 4.7, 1.2],\n       [6.4, 2.9, 4.3, 1.3],\n       [6.6, 3. , 4.4, 1.4],\n       [6.8, 2.8, 4.8, 1.4],\n       [6.7, 3. , 5. , 1.7],\n       [6. , 2.9, 4.5, 1.5],\n       [5.7, 2.6, 3.5, 1. ],\n       [5.5, 2.4, 3.8, 1.1],\n       [5.5, 2.4, 3.7, 1. ],\n       [5.8, 2.7, 3.9, 1.2],\n       [6. , 2.7, 5.1, 1.6],\n       [5.4, 3. , 4.5, 1.5],\n       [6. , 3.4, 4.5, 1.6],\n       [6.7, 3.1, 4.7, 1.5],\n       [6.3, 2.3, 4.4, 1.3],\n       [5.6, 3. , 4.1, 1.3],\n       [5.5, 2.5, 4. , 1.3],\n       [5.5, 2.6, 4.4, 1.2],\n       [6.1, 3. , 4.6, 1.4],\n       [5.8, 2.6, 4. , 1.2],\n       [5. , 2.3, 3.3, 1. ],\n       [5.6, 2.7, 4.2, 1.3],\n       [5.7, 3. , 4.2, 1.2],\n       [5.7, 2.9, 4.2, 1.3],\n       [6.2, 2.9, 4.3, 1.3],\n       [5.1, 2.5, 3. , 1.1],\n       [5.7, 2.8, 4.1, 1.3],\n       [6.3, 3.3, 6. , 2.5],\n       [5.8, 2.7, 5.1, 1.9],\n       [7.1, 3. , 5.9, 2.1],\n       [6.3, 2.9, 5.6, 1.8],\n       [6.5, 3. , 5.8, 2.2],\n       [7.6, 3. , 6.6, 2.1],\n       [4.9, 2.5, 4.5, 1.7],\n       [7.3, 2.9, 6.3, 1.8],\n       [6.7, 2.5, 5.8, 1.8],\n       [7.2, 3.6, 6.1, 2.5],\n       [6.5, 3.2, 5.1, 2. ],\n       [6.4, 2.7, 5.3, 1.9],\n       [6.8, 3. , 5.5, 2.1],\n       [5.7, 2.5, 5. , 2. ],\n       [5.8, 2.8, 5.1, 2.4],\n       [6.4, 3.2, 5.3, 2.3],\n       [6.5, 3. , 5.5, 1.8],\n       [7.7, 3.8, 6.7, 2.2],\n       [7.7, 2.6, 6.9, 2.3],\n       [6. , 2.2, 5. , 1.5],\n       [6.9, 3.2, 5.7, 2.3],\n       [5.6, 2.8, 4.9, 2. ],\n       [7.7, 2.8, 6.7, 2. ],\n       [6.3, 2.7, 4.9, 1.8],\n       [6.7, 3.3, 5.7, 2.1],\n       [7.2, 3.2, 6. , 1.8],\n       [6.2, 2.8, 4.8, 1.8],\n       [6.1, 3. , 4.9, 1.8],\n       [6.4, 2.8, 5.6, 2.1],\n       [7.2, 3. , 5.8, 1.6],\n       [7.4, 2.8, 6.1, 1.9],\n       [7.9, 3.8, 6.4, 2. ],\n       [6.4, 2.8, 5.6, 2.2],\n       [6.3, 2.8, 5.1, 1.5],\n       [6.1, 2.6, 5.6, 1.4],\n       [7.7, 3. , 6.1, 2.3],\n       [6.3, 3.4, 5.6, 2.4],\n       [6.4, 3.1, 5.5, 1.8],\n       [6. , 3. , 4.8, 1.8],\n       [6.9, 3.1, 5.4, 2.1],\n       [6.7, 3.1, 5.6, 2.4],\n       [6.9, 3.1, 5.1, 2.3],\n       [5.8, 2.7, 5.1, 1.9],\n       [6.8, 3.2, 5.9, 2.3],\n       [6.7, 3.3, 5.7, 2.5],\n       [6.7, 3. , 5.2, 2.3],\n       [6.3, 2.5, 5. , 1.9],\n       [6.5, 3. , 5.2, 2. ],\n       [6.2, 3.4, 5.4, 2.3],\n       [5.9, 3. , 5.1, 1.8]])"
          },
          "metadata": {}
        }
      ]
    },
    {
      "metadata": {
        "trusted": true,
        "_uuid": "01e34d8d48c8352589fe34ff8fbb90abdde706dd"
      },
      "cell_type": "code",
      "source": "# Calcule as contagens de valores únicos na linha.\nnp.random.seed(100)\narr = np.random.randint(1,11,size=(6, 10))\nprint(arr)\n\nprint('\\nQuantidade única em cada linha: ', [len(np.unique(x)) for x in arr])",
      "execution_count": 46,
      "outputs": [
        {
          "output_type": "stream",
          "text": "[[ 9  9  4  8  8  1  5  3  6  3]\n [ 3  3  2  1  9  5  1 10  7  3]\n [ 5  2  6  4  5  5  4  8  2  2]\n [ 8  8  1  3 10 10  4  3  6  9]\n [ 2  1  8  7  3  1  9  3  6  2]\n [ 9  2  6  5  3  9  4  6  1 10]]\n\nQuantidade única em cada linha:  [7, 7, 5, 7, 7, 8]\n",
          "name": "stdout"
        }
      ]
    },
    {
      "metadata": {
        "trusted": true,
        "_uuid": "aea18c4cff40933cdf941f4b956f573640d6e13d"
      },
      "cell_type": "code",
      "source": "# Calcule as codificações únicas (variáveis binárias dummy para cada valor único na matriz)\nnp.random.seed(101)\narr = np.random.randint(1,4, size=6)\n\ndummies = np.zeros((len(arr), np.max(arr)))\nfor i in range(len(arr)):\n    dummies[i][arr[i] - 1] = 1\n\nprint(arr)\nprint(dummies)",
      "execution_count": 58,
      "outputs": [
        {
          "output_type": "stream",
          "text": "[2 3 2 2 2 1]\n[[0. 1. 0.]\n [0. 0. 1.]\n [0. 1. 0.]\n [0. 1. 0.]\n [0. 1. 0.]\n [1. 0. 0.]]\n",
          "name": "stdout"
        }
      ]
    }
  ],
  "metadata": {
    "kernelspec": {
      "display_name": "Python 3",
      "language": "python",
      "name": "python3"
    },
    "language_info": {
      "name": "python",
      "version": "3.6.6",
      "mimetype": "text/x-python",
      "codemirror_mode": {
        "name": "ipython",
        "version": 3
      },
      "pygments_lexer": "ipython3",
      "nbconvert_exporter": "python",
      "file_extension": ".py"
    }
  },
  "nbformat": 4,
  "nbformat_minor": 1
}